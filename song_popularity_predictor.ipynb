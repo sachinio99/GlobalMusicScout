{
 "cells": [
  {
   "cell_type": "code",
   "execution_count": 1,
   "id": "e43bf222-32a6-4cc7-8722-7a7f13f6cf0c",
   "metadata": {},
   "outputs": [],
   "source": [
    "import torch"
   ]
  },
  {
   "cell_type": "code",
   "execution_count": 2,
   "id": "81356266-5f81-410a-a0a9-999c35f9e1c7",
   "metadata": {},
   "outputs": [],
   "source": [
    "from torchvision import datasets, transforms\n",
    "from torch.utils.data import TensorDataset, DataLoader"
   ]
  },
  {
   "cell_type": "code",
   "execution_count": 3,
   "id": "e697e740-cbd8-499c-b44c-533d262ec1d6",
   "metadata": {},
   "outputs": [
    {
     "name": "stdout",
     "output_type": "stream",
     "text": [
      "Archive:  spotify_data.zip\n",
      "replace dataset/spotify_top_songs_audio_features.csv? [y]es, [n]o, [A]ll, [N]one, [r]ename: ^C\n"
     ]
    }
   ],
   "source": [
    "#!unzip spotify_data.zip -d dataset"
   ]
  },
  {
   "cell_type": "code",
   "execution_count": 3,
   "id": "ee43dbc6-48a7-465d-8da1-0df5d39313b2",
   "metadata": {},
   "outputs": [],
   "source": [
    "import numpy as np\n",
    "import pandas as pd"
   ]
  },
  {
   "cell_type": "code",
   "execution_count": 4,
   "id": "35486524-b110-45fb-bbcb-159729bd3869",
   "metadata": {},
   "outputs": [
    {
     "data": {
      "text/html": [
       "<div>\n",
       "<style scoped>\n",
       "    .dataframe tbody tr th:only-of-type {\n",
       "        vertical-align: middle;\n",
       "    }\n",
       "\n",
       "    .dataframe tbody tr th {\n",
       "        vertical-align: top;\n",
       "    }\n",
       "\n",
       "    .dataframe thead th {\n",
       "        text-align: right;\n",
       "    }\n",
       "</style>\n",
       "<table border=\"1\" class=\"dataframe\">\n",
       "  <thead>\n",
       "    <tr style=\"text-align: right;\">\n",
       "      <th></th>\n",
       "      <th>id</th>\n",
       "      <th>artist_names</th>\n",
       "      <th>track_name</th>\n",
       "      <th>source</th>\n",
       "      <th>key</th>\n",
       "      <th>mode</th>\n",
       "      <th>time_signature</th>\n",
       "      <th>danceability</th>\n",
       "      <th>energy</th>\n",
       "      <th>speechiness</th>\n",
       "      <th>acousticness</th>\n",
       "      <th>instrumentalness</th>\n",
       "      <th>liveness</th>\n",
       "      <th>valence</th>\n",
       "      <th>loudness</th>\n",
       "      <th>tempo</th>\n",
       "      <th>duration_ms</th>\n",
       "      <th>weeks_on_chart</th>\n",
       "      <th>streams</th>\n",
       "    </tr>\n",
       "  </thead>\n",
       "  <tbody>\n",
       "    <tr>\n",
       "      <th>0</th>\n",
       "      <td>000xQL6tZNLJzIrtIgxqSl</td>\n",
       "      <td>ZAYN, PARTYNEXTDOOR</td>\n",
       "      <td>Still Got Time (feat. PARTYNEXTDOOR)</td>\n",
       "      <td>RCA Records Label</td>\n",
       "      <td>G</td>\n",
       "      <td>Major</td>\n",
       "      <td>4 beats</td>\n",
       "      <td>0.748</td>\n",
       "      <td>0.627</td>\n",
       "      <td>0.0639</td>\n",
       "      <td>0.13100</td>\n",
       "      <td>0.0</td>\n",
       "      <td>0.0852</td>\n",
       "      <td>0.524</td>\n",
       "      <td>-6.029</td>\n",
       "      <td>120.963</td>\n",
       "      <td>188491</td>\n",
       "      <td>17</td>\n",
       "      <td>107527761</td>\n",
       "    </tr>\n",
       "    <tr>\n",
       "      <th>1</th>\n",
       "      <td>003eoIwxETJujVWmNFMoZy</td>\n",
       "      <td>Alessia Cara</td>\n",
       "      <td>Growing Pains</td>\n",
       "      <td>Def Jam Recordings</td>\n",
       "      <td>C#/Db</td>\n",
       "      <td>Minor</td>\n",
       "      <td>4 beats</td>\n",
       "      <td>0.353</td>\n",
       "      <td>0.755</td>\n",
       "      <td>0.7330</td>\n",
       "      <td>0.08220</td>\n",
       "      <td>0.0</td>\n",
       "      <td>0.3900</td>\n",
       "      <td>0.437</td>\n",
       "      <td>-6.276</td>\n",
       "      <td>191.153</td>\n",
       "      <td>193680</td>\n",
       "      <td>2</td>\n",
       "      <td>9944865</td>\n",
       "    </tr>\n",
       "    <tr>\n",
       "      <th>2</th>\n",
       "      <td>003vvx7Niy0yvhvHt4a68B</td>\n",
       "      <td>The Killers</td>\n",
       "      <td>Mr. Brightside</td>\n",
       "      <td>Island Records</td>\n",
       "      <td>C#/Db</td>\n",
       "      <td>Major</td>\n",
       "      <td>4 beats</td>\n",
       "      <td>0.352</td>\n",
       "      <td>0.911</td>\n",
       "      <td>0.0747</td>\n",
       "      <td>0.00121</td>\n",
       "      <td>0.0</td>\n",
       "      <td>0.0995</td>\n",
       "      <td>0.236</td>\n",
       "      <td>-5.230</td>\n",
       "      <td>148.033</td>\n",
       "      <td>222973</td>\n",
       "      <td>125</td>\n",
       "      <td>512388123</td>\n",
       "    </tr>\n",
       "    <tr>\n",
       "      <th>3</th>\n",
       "      <td>00B7TZ0Xawar6NZ00JFomN</td>\n",
       "      <td>Cardi B, Chance the Rapper</td>\n",
       "      <td>Best Life (feat. Chance The Rapper)</td>\n",
       "      <td>Atlantic/KSR</td>\n",
       "      <td>A</td>\n",
       "      <td>Major</td>\n",
       "      <td>4 beats</td>\n",
       "      <td>0.620</td>\n",
       "      <td>0.625</td>\n",
       "      <td>0.5530</td>\n",
       "      <td>0.28700</td>\n",
       "      <td>0.0</td>\n",
       "      <td>0.3140</td>\n",
       "      <td>0.665</td>\n",
       "      <td>-7.438</td>\n",
       "      <td>167.911</td>\n",
       "      <td>284856</td>\n",
       "      <td>2</td>\n",
       "      <td>11985346</td>\n",
       "    </tr>\n",
       "    <tr>\n",
       "      <th>4</th>\n",
       "      <td>00Blm7zeNqgYLPtW6zg8cj</td>\n",
       "      <td>Post Malone, The Weeknd</td>\n",
       "      <td>One Right Now (with The Weeknd)</td>\n",
       "      <td>Republic Records</td>\n",
       "      <td>C#/Db</td>\n",
       "      <td>Major</td>\n",
       "      <td>4 beats</td>\n",
       "      <td>0.687</td>\n",
       "      <td>0.781</td>\n",
       "      <td>0.0530</td>\n",
       "      <td>0.03610</td>\n",
       "      <td>0.0</td>\n",
       "      <td>0.0755</td>\n",
       "      <td>0.688</td>\n",
       "      <td>-4.806</td>\n",
       "      <td>97.014</td>\n",
       "      <td>193507</td>\n",
       "      <td>30</td>\n",
       "      <td>301860377</td>\n",
       "    </tr>\n",
       "  </tbody>\n",
       "</table>\n",
       "</div>"
      ],
      "text/plain": [
       "                       id                artist_names  \\\n",
       "0  000xQL6tZNLJzIrtIgxqSl         ZAYN, PARTYNEXTDOOR   \n",
       "1  003eoIwxETJujVWmNFMoZy                Alessia Cara   \n",
       "2  003vvx7Niy0yvhvHt4a68B                 The Killers   \n",
       "3  00B7TZ0Xawar6NZ00JFomN  Cardi B, Chance the Rapper   \n",
       "4  00Blm7zeNqgYLPtW6zg8cj     Post Malone, The Weeknd   \n",
       "\n",
       "                             track_name              source    key   mode  \\\n",
       "0  Still Got Time (feat. PARTYNEXTDOOR)   RCA Records Label      G  Major   \n",
       "1                         Growing Pains  Def Jam Recordings  C#/Db  Minor   \n",
       "2                        Mr. Brightside      Island Records  C#/Db  Major   \n",
       "3   Best Life (feat. Chance The Rapper)        Atlantic/KSR      A  Major   \n",
       "4       One Right Now (with The Weeknd)    Republic Records  C#/Db  Major   \n",
       "\n",
       "  time_signature  danceability  energy  speechiness  acousticness  \\\n",
       "0        4 beats         0.748   0.627       0.0639       0.13100   \n",
       "1        4 beats         0.353   0.755       0.7330       0.08220   \n",
       "2        4 beats         0.352   0.911       0.0747       0.00121   \n",
       "3        4 beats         0.620   0.625       0.5530       0.28700   \n",
       "4        4 beats         0.687   0.781       0.0530       0.03610   \n",
       "\n",
       "   instrumentalness  liveness  valence  loudness    tempo  duration_ms  \\\n",
       "0               0.0    0.0852    0.524    -6.029  120.963       188491   \n",
       "1               0.0    0.3900    0.437    -6.276  191.153       193680   \n",
       "2               0.0    0.0995    0.236    -5.230  148.033       222973   \n",
       "3               0.0    0.3140    0.665    -7.438  167.911       284856   \n",
       "4               0.0    0.0755    0.688    -4.806   97.014       193507   \n",
       "\n",
       "   weeks_on_chart    streams  \n",
       "0              17  107527761  \n",
       "1               2    9944865  \n",
       "2             125  512388123  \n",
       "3               2   11985346  \n",
       "4              30  301860377  "
      ]
     },
     "execution_count": 4,
     "metadata": {},
     "output_type": "execute_result"
    }
   ],
   "source": [
    "df = pd.read_csv('dataset/spotify_top_songs_audio_features.csv')\n",
    "# Convert to a NumPy array, optionally selecting only numeric columns\n",
    "array = df.select_dtypes(include=[float, int, object]).to_numpy()\n",
    "df.head() #we want to preview the df before converting into numpy"
   ]
  },
  {
   "cell_type": "code",
   "execution_count": 6,
   "id": "e785bc94-9e8c-4d2f-b772-0e9cef365810",
   "metadata": {},
   "outputs": [],
   "source": [
    "numpy_all_data = df.values"
   ]
  },
  {
   "cell_type": "code",
   "execution_count": 7,
   "id": "7c53e898-4b08-4d67-a90d-bdcd587e54f8",
   "metadata": {},
   "outputs": [],
   "source": [
    "#Split the dataset into training and validation\n",
    "split_ratio = 0.9\n",
    "# Shuffle the array if necessary\n",
    "np.random.shuffle(numpy_all_data)  # Uncomment this line if you want to shuffle the array\n",
    "split_index = int(len(numpy_all_data) * split_ratio)\n",
    "\n",
    "train_data = numpy_all_data[:split_index]\n",
    "validation_data = numpy_all_data[split_index:]\n"
   ]
  },
  {
   "cell_type": "code",
   "execution_count": 8,
   "id": "a807c062-b2a0-41ea-b020-320d71ba569e",
   "metadata": {},
   "outputs": [
    {
     "name": "stdout",
     "output_type": "stream",
     "text": [
      "111359\n"
     ]
    }
   ],
   "source": [
    "print(train_data.size) #This is the data set we will be using to train the model"
   ]
  },
  {
   "cell_type": "code",
   "execution_count": 9,
   "id": "1837784b-eb73-40ac-87f2-5486ab56a5ee",
   "metadata": {},
   "outputs": [
    {
     "name": "stdout",
     "output_type": "stream",
     "text": [
      "12388\n"
     ]
    }
   ],
   "source": [
    "print(validation_data.size) #This is the data set we will use to determine the performance of our model"
   ]
  },
  {
   "cell_type": "code",
   "execution_count": 36,
   "id": "d5fc10c6-00a9-470c-bfee-bd79c6016572",
   "metadata": {},
   "outputs": [
    {
     "name": "stdout",
     "output_type": "stream",
     "text": [
      "torch.Size([5861, 11])\n"
     ]
    }
   ],
   "source": [
    "#we need to split the columns into feature columns and target columns- this is going to be a regression task\n",
    "features_training = train_data[:,7:-1]\n",
    "target_training = train_data[:,-1]\n",
    "\n",
    "features_validation = validation_data[:,7:-1]\n",
    "target_validation = validation_data[:,-1]\n",
    "\n",
    "#convert the dtype of the numpy to valid float to avoid issues when converting to tensor\n",
    "\n",
    "features_training_numeric = features_training.astype(float)\n",
    "target_training_numeric = target_training.astype(float)\n",
    "\n",
    "features_validation_numeric = features_validation.astype(float)\n",
    "target_validation_numeric = target_validation.astype(float)\n",
    "\n",
    "X = torch.from_numpy(features_training_numeric).float() \n",
    "Y = torch.from_numpy(target_training_numeric).float()\n",
    "\n",
    "n_samples,n_features = X.shape\n",
    "\n",
    "print(X.shape)\n",
    "\n",
    "y = Y.view(Y.shape[0],1)\n",
    "\n",
    "\n",
    "#convert to tensors\n",
    "#features_tensor_training = torch.tensor(features_training_numeric, dtype=torch.float32)\n",
    "#target_tensor_training = torch.tensor(target_training_numeric, dtype=torch.float32)\n",
    "#these tensors will be used in the validation of the model\n",
    "#features_tensor_validation = torch.tensor(features_validation_numeric, dtype=torch.float32)\n",
    "#target_tensor_validation = torch.tensor(target_validation_numeric, dtype=torch.float32)"
   ]
  },
  {
   "cell_type": "code",
   "execution_count": 37,
   "id": "d1821a74-5c7f-4dc6-944d-6ed1d184d78f",
   "metadata": {},
   "outputs": [
    {
     "name": "stdout",
     "output_type": "stream",
     "text": [
      "tensor([ 6.0600e-01,  6.5500e-01,  4.0200e-01,  1.3900e-01,  0.0000e+00,\n",
      "         1.0300e-01,  6.9600e-01, -6.3280e+00,  1.5982e+02,  2.3669e+05,\n",
      "         1.0000e+00])\n",
      "tensor(5052724.)\n"
     ]
    }
   ],
   "source": [
    "# Create a TensorDataset\n",
    "spotify_tensor_dataset = TensorDataset(X, Y)  # Ensuring target tensor is the correct shape\n",
    "\n",
    "train,target = spotify_tensor_dataset[0]\n",
    "print(train)\n",
    "print(target)"
   ]
  },
  {
   "cell_type": "code",
   "execution_count": 32,
   "id": "4e3f2a8d-492e-427b-9485-d184cc3c0894",
   "metadata": {},
   "outputs": [
    {
     "name": "stdout",
     "output_type": "stream",
     "text": [
      "epoch: 10, loss = nan\n",
      "epoch: 20, loss = nan\n",
      "epoch: 30, loss = nan\n",
      "epoch: 40, loss = nan\n",
      "epoch: 50, loss = nan\n",
      "epoch: 60, loss = nan\n",
      "epoch: 70, loss = nan\n",
      "epoch: 80, loss = nan\n",
      "epoch: 90, loss = nan\n",
      "epoch: 100, loss = nan\n"
     ]
    },
    {
     "data": {
      "image/png": "[encoded data removed]",
      "text/plain": [
       "<Figure size 640x480 with 1 Axes>"
      ]
     },
     "metadata": {},
     "output_type": "display_data"
    }
   ],
   "source": [
    "input_size = n_features\n",
    "output_size = 1\n",
    "model = nn.Linear(input_size,output_size)\n",
    "\n",
    "import matplotlib.pyplot as plt\n",
    "\n",
    "criterion = nn.MSELoss()\n",
    "learning_rate = 0.01\n",
    "optimizer = torch.optim.SGD(model.parameters(),lr= learning_rate)\n",
    "\n",
    "num_epochs = 100\n",
    "for epoch in range(num_epochs):\n",
    "    y_predicted = model(X)\n",
    "    loss = criterion(y_predicted,y)\n",
    "\n",
    "    loss.backward()\n",
    "    optimizer.step()\n",
    "    optimizer.zero_grad()\n",
    "\n",
    "    if(epoch+1) % 10 == 0:\n",
    "        print(f'epoch: {epoch +1}, loss = {loss.item():.4f}')\n",
    "\n",
    "predicted = model(X).detach().numpy()\n",
    "plt.plot(X, y,'ro')\n",
    "plt.plot(X,predicted,'b')\n",
    "plt.show()\n",
    "\n"
   ]
  },
  {
   "cell_type": "code",
   "execution_count": 33,
   "id": "83fdc073-6010-4020-964a-4bdc4ec998e7",
   "metadata": {},
   "outputs": [],
   "source": [
    "#Dataset stores the samples and their corresponding labels \n",
    "\n",
    "batch_size = 4\n",
    "#DataLoader wraps an iterable around the Dataset to enable easy access to the samples.\n",
    "regression_train_loader = DataLoader(spotify_tensor_dataset, batch_size = batch_size, shuffle = True)\n"
   ]
  },
  {
   "cell_type": "code",
   "execution_count": 34,
   "id": "f27a4cb3-1efc-4e09-9651-fe17652c2056",
   "metadata": {},
   "outputs": [],
   "source": [
    "#Define the model that we are going to use\n",
    "import torch.nn as nn\n",
    "import torch.optim as optim\n",
    "\n",
    "class SongPopularityPredictor(nn.Module):\n",
    "    def __init__(self, input_size, hidden_size1, hidden_size2, dropout_rate):\n",
    "        super(SongPopularityPredictor, self).__init__()\n",
    "        self.fc1 = nn.Linear(input_size, hidden_size1)\n",
    "        self.bn1 = nn.BatchNorm1d(hidden_size1)\n",
    "        self.relu1 = nn.ReLU()\n",
    "        self.dropout1 = nn.Dropout(dropout_rate)\n",
    "        \n",
    "        self.fc2 = nn.Linear(hidden_size1, hidden_size2)\n",
    "        self.bn2 = nn.BatchNorm1d(hidden_size2)\n",
    "        self.relu2 = nn.ReLU()\n",
    "        self.dropout2 = nn.Dropout(dropout_rate)\n",
    "        \n",
    "        self.fc3 = nn.Linear(hidden_size2, 1)\n",
    "        \n",
    "    def forward(self, x):\n",
    "        x = self.fc1(x)\n",
    "        x = self.bn1(x)\n",
    "        x = self.relu1(x)\n",
    "        x = self.dropout1(x)\n",
    "        \n",
    "        x = self.fc2(x)\n",
    "        x = self.bn2(x)\n",
    "        x = self.relu2(x)\n",
    "        x = self.dropout2(x)\n",
    "        \n",
    "        x = self.fc3(x)\n",
    "        return x\n"
   ]
  },
  {
   "cell_type": "code",
   "execution_count": 10,
   "id": "85eebd60-6186-41ee-89d5-d07a8d541a43",
   "metadata": {},
   "outputs": [
    {
     "ename": "NameError",
     "evalue": "name 'SongPopularityPredictor' is not defined",
     "output_type": "error",
     "traceback": [
      "\u001b[0;31m---------------------------------------------------------------------------\u001b[0m",
      "\u001b[0;31mNameError\u001b[0m                                 Traceback (most recent call last)",
      "Cell \u001b[0;32mIn[10], line 11\u001b[0m\n\u001b[1;32m      8\u001b[0m hidden_size2 \u001b[38;5;241m=\u001b[39m \u001b[38;5;241m32\u001b[39m\n\u001b[1;32m      9\u001b[0m dropout_rate \u001b[38;5;241m=\u001b[39m \u001b[38;5;241m0.2\u001b[39m\n\u001b[0;32m---> 11\u001b[0m model \u001b[38;5;241m=\u001b[39m \u001b[43mSongPopularityPredictor\u001b[49m(input_size, hidden_size1, hidden_size2, dropout_rate)\n\u001b[1;32m     12\u001b[0m outputs \u001b[38;5;241m=\u001b[39m model(X)\n\u001b[1;32m     14\u001b[0m criterion \u001b[38;5;241m=\u001b[39m nn\u001b[38;5;241m.\u001b[39mMSELoss()\n",
      "\u001b[0;31mNameError\u001b[0m: name 'SongPopularityPredictor' is not defined"
     ]
    }
   ],
   "source": [
    "#Initialize the model instance, also include the loss function, we will use Mean Squared Loss since this a regression task\n",
    "import torch.optim as optim\n",
    "import torch.nn.functional as F\n",
    "\n",
    "# Assuming your input features have 11 dimensions\n",
    "input_size = 11\n",
    "hidden_size1 = 64\n",
    "hidden_size2 = 32\n",
    "dropout_rate = 0.2\n",
    "\n",
    "model = SongPopularityPredictor(input_size, hidden_size1, hidden_size2, dropout_rate)\n",
    "outputs = model(X)\n",
    "\n",
    "criterion = nn.MSELoss()\n",
    "optimizer = optim.Adam(model.parameters(), lr=0.001)\n",
    "#Run training loop for our model\n",
    "# Assuming model, criterion (loss function), and optimizer are defined\n",
    "num_epochs = 20\n",
    "for epoch in range(num_epochs):\n",
    "    for inputs, targets in regression_train_loader:\n",
    "        model.train()\n",
    "        model.eval()\n",
    "        optimizer.zero_grad()\n",
    "        \n",
    "        outputs = model(inputs)\n",
    "        loss = criterion(outputs, targets)\n",
    "        loss.backward()\n",
    "        optimizer.step()\n",
    "    \n",
    "    # Print or log the loss for monitoring\n",
    "    print(f'Epoch [{epoch+1}/{num_epochs}], Loss: {loss.item()}')"
   ]
  },
  {
   "cell_type": "code",
   "execution_count": null,
   "id": "19cf092c-f9aa-4441-825d-359473ed7ea5",
   "metadata": {},
   "outputs": [],
   "source": []
  }
 ],
 "metadata": {
  "kernelspec": {
   "display_name": "Python 3 (ipykernel)",
   "language": "python",
   "name": "python3"
  },
  "language_info": {
   "codemirror_mode": {
    "name": "ipython",
    "version": 3
   },
   "file_extension": ".py",
   "mimetype": "text/x-python",
   "name": "python",
   "nbconvert_exporter": "python",
   "pygments_lexer": "ipython3",
   "version": "3.10.10"
  }
 },
 "nbformat": 4,
 "nbformat_minor": 5
}
